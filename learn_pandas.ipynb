{
  "nbformat": 4,
  "nbformat_minor": 0,
  "metadata": {
    "colab": {
      "name": "learn_pandas.ipynb",
      "provenance": [],
      "mount_file_id": "1adbZOSOpcudPQu6A20TC6kObfdWMwNIn",
      "authorship_tag": "ABX9TyPzdkcvkBQEuxeRKIc0F67M",
      "include_colab_link": true
    },
    "kernelspec": {
      "name": "python3",
      "display_name": "Python 3"
    }
  },
  "cells": [
    {
      "cell_type": "markdown",
      "metadata": {
        "id": "view-in-github",
        "colab_type": "text"
      },
      "source": [
        "<a href=\"https://colab.research.google.com/github/LeszekRutkowski/Self_first/blob/master/learn_pandas.ipynb\" target=\"_parent\"><img src=\"https://colab.research.google.com/assets/colab-badge.svg\" alt=\"Open In Colab\"/></a>"
      ]
    },
    {
      "cell_type": "code",
      "metadata": {
        "id": "gmcMtImTF88p",
        "colab_type": "code",
        "colab": {}
      },
      "source": [
        "#Importowanie koniecznych bibliotek\n",
        "import pandas as pd\n",
        "import numpy as np\n",
        "import matplotlib.pyplot as plt\n",
        "import seaborn as sns\n",
        "%matplotlib inline"
      ],
      "execution_count": 4,
      "outputs": []
    },
    {
      "cell_type": "code",
      "metadata": {
        "id": "S6HKWmO1KrSA",
        "colab_type": "code",
        "colab": {}
      },
      "source": [
        "sns.set()"
      ],
      "execution_count": 5,
      "outputs": []
    },
    {
      "cell_type": "code",
      "metadata": {
        "id": "cvljJxy7GPYC",
        "colab_type": "code",
        "colab": {
          "base_uri": "https://localhost:8080/",
          "height": 34
        },
        "outputId": "6f42f999-0fe3-41bd-ed39-73ae806304b9"
      },
      "source": [
        "ls"
      ],
      "execution_count": 6,
      "outputs": [
        {
          "output_type": "stream",
          "text": [
            "\u001b[0m\u001b[01;34mdrive\u001b[0m/  \u001b[01;34msample_data\u001b[0m/\n"
          ],
          "name": "stdout"
        }
      ]
    },
    {
      "cell_type": "code",
      "metadata": {
        "id": "c3R2kS8iHScQ",
        "colab_type": "code",
        "colab": {
          "base_uri": "https://localhost:8080/",
          "height": 34
        },
        "outputId": "8071228c-4f86-44ff-89c4-447034d89480"
      },
      "source": [
        "cd '/content/drive/My Drive/Colab Notebooks/Self_first'"
      ],
      "execution_count": 7,
      "outputs": [
        {
          "output_type": "stream",
          "text": [
            "/content/drive/My Drive/Colab Notebooks/Self_first\n"
          ],
          "name": "stdout"
        }
      ]
    },
    {
      "cell_type": "code",
      "metadata": {
        "id": "iwP3Rh7XHX1j",
        "colab_type": "code",
        "colab": {
          "base_uri": "https://localhost:8080/",
          "height": 34
        },
        "outputId": "15b20340-842f-4478-c261-ad82d006606c"
      },
      "source": [
        "ls"
      ],
      "execution_count": 8,
      "outputs": [
        {
          "output_type": "stream",
          "text": [
            "Zeszyt1.csv\n"
          ],
          "name": "stdout"
        }
      ]
    },
    {
      "cell_type": "code",
      "metadata": {
        "id": "YNljxqgMICHU",
        "colab_type": "code",
        "colab": {
          "base_uri": "https://localhost:8080/",
          "height": 34
        },
        "outputId": "64756398-eacb-4074-b925-5bb451064873"
      },
      "source": [
        "pwd"
      ],
      "execution_count": 9,
      "outputs": [
        {
          "output_type": "execute_result",
          "data": {
            "text/plain": [
              "'/content/drive/My Drive/Colab Notebooks/Self_first'"
            ]
          },
          "metadata": {
            "tags": []
          },
          "execution_count": 9
        }
      ]
    },
    {
      "cell_type": "code",
      "metadata": {
        "id": "pjpBWkjhHhCK",
        "colab_type": "code",
        "colab": {}
      },
      "source": [
        "df = pd.read_csv('./Zeszyt1.csv', sep=';', index_col= 'liczba' )"
      ],
      "execution_count": 53,
      "outputs": []
    },
    {
      "cell_type": "code",
      "metadata": {
        "id": "xkv88KoyK3Xd",
        "colab_type": "code",
        "colab": {
          "base_uri": "https://localhost:8080/",
          "height": 187
        },
        "outputId": "1ce3729e-c506-4f58-8b01-511b8c9823a2"
      },
      "source": [
        "df.info()"
      ],
      "execution_count": 111,
      "outputs": [
        {
          "output_type": "stream",
          "text": [
            "<class 'pandas.core.frame.DataFrame'>\n",
            "Int64Index: 17 entries, 1 to 17\n",
            "Data columns (total 3 columns):\n",
            " #   Column   Non-Null Count  Dtype \n",
            "---  ------   --------------  ----- \n",
            " 0   NAZWA    17 non-null     object\n",
            " 1   ILOSC    17 non-null     int64 \n",
            " 2   ILOSC_2  17 non-null     int64 \n",
            "dtypes: int64(2), object(1)\n",
            "memory usage: 544.0+ bytes\n"
          ],
          "name": "stdout"
        }
      ]
    },
    {
      "cell_type": "code",
      "metadata": {
        "id": "2e05W4iZIIAi",
        "colab_type": "code",
        "colab": {
          "base_uri": "https://localhost:8080/",
          "height": 304
        },
        "outputId": "4ac312b6-68f0-4085-8cb2-c12709539f2e"
      },
      "source": [
        "df.plot()"
      ],
      "execution_count": 55,
      "outputs": [
        {
          "output_type": "execute_result",
          "data": {
            "text/plain": [
              "<matplotlib.axes._subplots.AxesSubplot at 0x7fa7a0d60c18>"
            ]
          },
          "metadata": {
            "tags": []
          },
          "execution_count": 55
        },
        {
          "output_type": "display_data",
          "data": {
            "image/png": "[encoded data removed]",
            "text/plain": [
              "<Figure size 432x288 with 1 Axes>"
            ]
          },
          "metadata": {
            "tags": []
          }
        }
      ]
    },
    {
      "cell_type": "code",
      "metadata": {
        "id": "bb3S9ocGJ0ff",
        "colab_type": "code",
        "colab": {}
      },
      "source": [
        "df.columns = [x.upper() for x in df.columns]"
      ],
      "execution_count": 56,
      "outputs": []
    },
    {
      "cell_type": "code",
      "metadata": {
        "id": "vLm3gviXMh8D",
        "colab_type": "code",
        "colab": {
          "base_uri": "https://localhost:8080/",
          "height": 340
        },
        "outputId": "1e1f9547-756e-4231-e487-f1da96a3a17d"
      },
      "source": [
        "df['ILOSC']"
      ],
      "execution_count": 74,
      "outputs": [
        {
          "output_type": "execute_result",
          "data": {
            "text/plain": [
              "liczba\n",
              "1       23\n",
              "2       34\n",
              "3      234\n",
              "4      534\n",
              "5      645\n",
              "6       78\n",
              "7      345\n",
              "8       56\n",
              "9       35\n",
              "10      34\n",
              "11     345\n",
              "12    4537\n",
              "13    7686\n",
              "14     456\n",
              "15     345\n",
              "16     565\n",
              "17      45\n",
              "Name: ILOSC, dtype: int64"
            ]
          },
          "metadata": {
            "tags": []
          },
          "execution_count": 74
        }
      ]
    },
    {
      "cell_type": "code",
      "metadata": {
        "id": "KJWfZPMhUvxt",
        "colab_type": "code",
        "colab": {
          "base_uri": "https://localhost:8080/",
          "height": 607
        },
        "outputId": "f38a074f-1507-4312-d0cb-db629f72ea43"
      },
      "source": [
        "df"
      ],
      "execution_count": 152,
      "outputs": [
        {
          "output_type": "execute_result",
          "data": {
            "text/html": [
              "<div>\n",
              "<style scoped>\n",
              "    .dataframe tbody tr th:only-of-type {\n",
              "        vertical-align: middle;\n",
              "    }\n",
              "\n",
              "    .dataframe tbody tr th {\n",
              "        vertical-align: top;\n",
              "    }\n",
              "\n",
              "    .dataframe thead th {\n",
              "        text-align: right;\n",
              "    }\n",
              "</style>\n",
              "<table border=\"1\" class=\"dataframe\">\n",
              "  <thead>\n",
              "    <tr style=\"text-align: right;\">\n",
              "      <th></th>\n",
              "      <th>NAZWA</th>\n",
              "      <th>ILOSC</th>\n",
              "      <th>ILOSC_2</th>\n",
              "      <th>result</th>\n",
              "    </tr>\n",
              "    <tr>\n",
              "      <th>liczba</th>\n",
              "      <th></th>\n",
              "      <th></th>\n",
              "      <th></th>\n",
              "      <th></th>\n",
              "    </tr>\n",
              "  </thead>\n",
              "  <tbody>\n",
              "    <tr>\n",
              "      <th>1</th>\n",
              "      <td>produkt1</td>\n",
              "      <td>23</td>\n",
              "      <td>-999999977</td>\n",
              "      <td>-999999954</td>\n",
              "    </tr>\n",
              "    <tr>\n",
              "      <th>2</th>\n",
              "      <td>produkt2</td>\n",
              "      <td>34</td>\n",
              "      <td>34</td>\n",
              "      <td>68</td>\n",
              "    </tr>\n",
              "    <tr>\n",
              "      <th>3</th>\n",
              "      <td>produkt3</td>\n",
              "      <td>234</td>\n",
              "      <td>234</td>\n",
              "      <td>468</td>\n",
              "    </tr>\n",
              "    <tr>\n",
              "      <th>4</th>\n",
              "      <td>produkt4</td>\n",
              "      <td>534</td>\n",
              "      <td>534</td>\n",
              "      <td>1068</td>\n",
              "    </tr>\n",
              "    <tr>\n",
              "      <th>5</th>\n",
              "      <td>produkt5</td>\n",
              "      <td>645</td>\n",
              "      <td>645</td>\n",
              "      <td>1290</td>\n",
              "    </tr>\n",
              "    <tr>\n",
              "      <th>6</th>\n",
              "      <td>produkt6</td>\n",
              "      <td>78</td>\n",
              "      <td>78</td>\n",
              "      <td>156</td>\n",
              "    </tr>\n",
              "    <tr>\n",
              "      <th>7</th>\n",
              "      <td>produkt7</td>\n",
              "      <td>345</td>\n",
              "      <td>345</td>\n",
              "      <td>690</td>\n",
              "    </tr>\n",
              "    <tr>\n",
              "      <th>8</th>\n",
              "      <td>produkt8</td>\n",
              "      <td>56</td>\n",
              "      <td>56</td>\n",
              "      <td>112</td>\n",
              "    </tr>\n",
              "    <tr>\n",
              "      <th>9</th>\n",
              "      <td>produkt9</td>\n",
              "      <td>35</td>\n",
              "      <td>35</td>\n",
              "      <td>70</td>\n",
              "    </tr>\n",
              "    <tr>\n",
              "      <th>10</th>\n",
              "      <td>produkt10</td>\n",
              "      <td>34</td>\n",
              "      <td>34</td>\n",
              "      <td>68</td>\n",
              "    </tr>\n",
              "    <tr>\n",
              "      <th>11</th>\n",
              "      <td>produkt11</td>\n",
              "      <td>345</td>\n",
              "      <td>345</td>\n",
              "      <td>690</td>\n",
              "    </tr>\n",
              "    <tr>\n",
              "      <th>12</th>\n",
              "      <td>produkt12</td>\n",
              "      <td>4537</td>\n",
              "      <td>4537</td>\n",
              "      <td>9074</td>\n",
              "    </tr>\n",
              "    <tr>\n",
              "      <th>13</th>\n",
              "      <td>produkt13</td>\n",
              "      <td>7686</td>\n",
              "      <td>7686</td>\n",
              "      <td>15372</td>\n",
              "    </tr>\n",
              "    <tr>\n",
              "      <th>14</th>\n",
              "      <td>produkt14</td>\n",
              "      <td>456</td>\n",
              "      <td>456</td>\n",
              "      <td>912</td>\n",
              "    </tr>\n",
              "    <tr>\n",
              "      <th>15</th>\n",
              "      <td>produkt15</td>\n",
              "      <td>345</td>\n",
              "      <td>345</td>\n",
              "      <td>690</td>\n",
              "    </tr>\n",
              "    <tr>\n",
              "      <th>16</th>\n",
              "      <td>produkt16</td>\n",
              "      <td>565</td>\n",
              "      <td>565</td>\n",
              "      <td>1130</td>\n",
              "    </tr>\n",
              "    <tr>\n",
              "      <th>17</th>\n",
              "      <td>produkt17</td>\n",
              "      <td>45</td>\n",
              "      <td>45</td>\n",
              "      <td>90</td>\n",
              "    </tr>\n",
              "  </tbody>\n",
              "</table>\n",
              "</div>"
            ],
            "text/plain": [
              "            NAZWA  ILOSC    ILOSC_2     result\n",
              "liczba                                        \n",
              "1        produkt1     23 -999999977 -999999954\n",
              "2        produkt2     34         34         68\n",
              "3        produkt3    234        234        468\n",
              "4        produkt4    534        534       1068\n",
              "5        produkt5    645        645       1290\n",
              "6        produkt6     78         78        156\n",
              "7        produkt7    345        345        690\n",
              "8        produkt8     56         56        112\n",
              "9        produkt9     35         35         70\n",
              "10      produkt10     34         34         68\n",
              "11      produkt11    345        345        690\n",
              "12      produkt12   4537       4537       9074\n",
              "13      produkt13   7686       7686      15372\n",
              "14      produkt14    456        456        912\n",
              "15      produkt15    345        345        690\n",
              "16      produkt16    565        565       1130\n",
              "17      produkt17     45         45         90"
            ]
          },
          "metadata": {
            "tags": []
          },
          "execution_count": 152
        }
      ]
    },
    {
      "cell_type": "code",
      "metadata": {
        "id": "IBsqr2HNLWIA",
        "colab_type": "code",
        "colab": {}
      },
      "source": [
        "df['ILOSC_2'] = df['ILOSC'].map(lambda x: -abs(x-1000000000) if x == 23 else x)"
      ],
      "execution_count": 150,
      "outputs": []
    },
    {
      "cell_type": "code",
      "metadata": {
        "id": "qGRzWe7vXWv5",
        "colab_type": "code",
        "colab": {}
      },
      "source": [
        "df['result'] = df['ILOSC'] + df['ILOSC_2']"
      ],
      "execution_count": 151,
      "outputs": []
    },
    {
      "cell_type": "code",
      "metadata": {
        "id": "0l0Jr4GWLoHl",
        "colab_type": "code",
        "colab": {
          "base_uri": "https://localhost:8080/",
          "height": 170
        },
        "outputId": "164ba671-b32d-4d5d-cf8b-2da446e53bc0"
      },
      "source": [
        "df.info()"
      ],
      "execution_count": null,
      "outputs": [
        {
          "output_type": "stream",
          "text": [
            "<class 'pandas.core.frame.DataFrame'>\n",
            "Int64Index: 17 entries, 1 to 17\n",
            "Data columns (total 2 columns):\n",
            " #   Column  Non-Null Count  Dtype \n",
            "---  ------  --------------  ----- \n",
            " 0   NAZWA   17 non-null     object\n",
            " 1   ILOSC   17 non-null     int64 \n",
            "dtypes: int64(1), object(1)\n",
            "memory usage: 408.0+ bytes\n"
          ],
          "name": "stdout"
        }
      ]
    },
    {
      "cell_type": "code",
      "metadata": {
        "id": "cN1Zvv-sMWu9",
        "colab_type": "code",
        "colab": {}
      },
      "source": [
        ""
      ],
      "execution_count": null,
      "outputs": []
    }
  ]
}