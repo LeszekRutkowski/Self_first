{
  "nbformat": 4,
  "nbformat_minor": 0,
  "metadata": {
    "colab": {
      "name": "self_first.ipynb",
      "provenance": [],
      "collapsed_sections": [],
      "mount_file_id": "12aMVv0y18QEWbR-6NlsALgal7lvtFoRH",
      "authorship_tag": "ABX9TyOKDDqfxsX+zuS1nOeFVfGF",
      "include_colab_link": true
    },
    "kernelspec": {
      "name": "python3",
      "display_name": "Python 3"
    }
  },
  "cells": [
    {
      "cell_type": "markdown",
      "metadata": {
        "id": "view-in-github",
        "colab_type": "text"
      },
      "source": [
        "<a href=\"https://colab.research.google.com/github/LeszekRutkowski/Self_first/blob/master/self_first.ipynb\" target=\"_parent\"><img src=\"https://colab.research.google.com/assets/colab-badge.svg\" alt=\"Open In Colab\"/></a>"
      ]
    },
    {
      "cell_type": "code",
      "metadata": {
        "id": "XJtpGoWcqJ4c",
        "colab_type": "code",
        "colab": {
          "base_uri": "https://localhost:8080/",
          "height": 34
        },
        "outputId": "d975d3ec-9d49-4855-b2cd-84dc6e506177"
      },
      "source": [
        "cd 'My Drive'"
      ],
      "execution_count": 38,
      "outputs": [
        {
          "output_type": "stream",
          "text": [
            "/content/drive/My Drive\n"
          ],
          "name": "stdout"
        }
      ]
    },
    {
      "cell_type": "code",
      "metadata": {
        "id": "W2HFVQHJqOVH",
        "colab_type": "code",
        "colab": {
          "base_uri": "https://localhost:8080/",
          "height": 85
        },
        "outputId": "8b1315d4-5ba8-478b-cb90-29ef05cdfbb6"
      },
      "source": [
        "ls"
      ],
      "execution_count": 39,
      "outputs": [
        {
          "output_type": "stream",
          "text": [
            " 04_Pelny_Kurs_Podstawowy.7z   \u001b[0m\u001b[01;34mClassroom\u001b[0m/          IMG_1154.MOV\n",
            " bilety.pdf                   \u001b[01;34m'Colab Notebooks'\u001b[0m/   \u001b[01;34mkomunia\u001b[0m/\n",
            " \u001b[01;34mbudżet\u001b[0m/                       IMG_0661.JPG       \u001b[01;34m'komunia edycja'\u001b[0m/\n",
            " CDN_Firma_Demo.BAC           'IMG_1154 (1).MOV'\n"
          ],
          "name": "stdout"
        }
      ]
    },
    {
      "cell_type": "code",
      "metadata": {
        "id": "m_CaoNbBqPIY",
        "colab_type": "code",
        "colab": {
          "base_uri": "https://localhost:8080/",
          "height": 34
        },
        "outputId": "a334b977-4b7d-4766-a4b4-ffb41743d707"
      },
      "source": [
        "cd 'Colab Notebooks'"
      ],
      "execution_count": 41,
      "outputs": [
        {
          "output_type": "stream",
          "text": [
            "/content/drive/My Drive/Colab Notebooks\n"
          ],
          "name": "stdout"
        }
      ]
    },
    {
      "cell_type": "code",
      "metadata": {
        "id": "QbnI_dohqdv4",
        "colab_type": "code",
        "colab": {
          "base_uri": "https://localhost:8080/",
          "height": 68
        },
        "outputId": "338695c2-8daa-495e-b53e-5162eed2e960"
      },
      "source": [
        "ls"
      ],
      "execution_count": 42,
      "outputs": [
        {
          "output_type": "stream",
          "text": [
            "ColabDriveGithub.ipynb  day2.ipynb  day4_meta.ipynb  \u001b[0m\u001b[01;34mmatrix\u001b[0m/\n",
            "day1.ipynb              day3.ipynb  day5.ipynb       Untitled0.ipynb\n",
            "day1_meta.ipynb         day4.ipynb  \u001b[01;34mdw_matrix\u001b[0m/\n"
          ],
          "name": "stdout"
        }
      ]
    },
    {
      "cell_type": "code",
      "metadata": {
        "id": "JOcaGlM2qiKw",
        "colab_type": "code",
        "colab": {}
      },
      "source": [
        "!mkdir 'Self_first' "
      ],
      "execution_count": 43,
      "outputs": []
    },
    {
      "cell_type": "code",
      "metadata": {
        "id": "o_-qH54gqvk2",
        "colab_type": "code",
        "colab": {
          "base_uri": "https://localhost:8080/",
          "height": 68
        },
        "outputId": "a4f1d84d-4078-43fa-85c5-39ef985442ff"
      },
      "source": [
        "ls"
      ],
      "execution_count": 44,
      "outputs": [
        {
          "output_type": "stream",
          "text": [
            "ColabDriveGithub.ipynb  day2.ipynb  day4_meta.ipynb  \u001b[0m\u001b[01;34mmatrix\u001b[0m/\n",
            "day1.ipynb              day3.ipynb  day5.ipynb       \u001b[01;34mSelf_first\u001b[0m/\n",
            "day1_meta.ipynb         day4.ipynb  \u001b[01;34mdw_matrix\u001b[0m/       Untitled0.ipynb\n"
          ],
          "name": "stdout"
        }
      ]
    },
    {
      "cell_type": "code",
      "metadata": {
        "id": "d264t2Ojqw9B",
        "colab_type": "code",
        "colab": {
          "base_uri": "https://localhost:8080/",
          "height": 34
        },
        "outputId": "c3a17726-b5db-4bd8-fab9-a557db988104"
      },
      "source": [
        "cd 'Self_first'"
      ],
      "execution_count": 45,
      "outputs": [
        {
          "output_type": "stream",
          "text": [
            "/content/drive/My Drive/Colab Notebooks/Self_first\n"
          ],
          "name": "stdout"
        }
      ]
    },
    {
      "cell_type": "code",
      "metadata": {
        "id": "qx6Y2t-Dq2Mm",
        "colab_type": "code",
        "colab": {}
      },
      "source": [
        "!git add self_first.ipynb\n",
        "!git commit -m \"add\""
      ],
      "execution_count": 48,
      "outputs": []
    },
    {
      "cell_type": "code",
      "metadata": {
        "id": "TsnC69LGq3XA",
        "colab_type": "code",
        "colab": {}
      },
      "source": [
        ""
      ],
      "execution_count": null,
      "outputs": []
    }
  ]
}